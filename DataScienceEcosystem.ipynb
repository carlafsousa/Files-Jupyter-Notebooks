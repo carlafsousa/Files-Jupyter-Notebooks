{
 "cells": [
  {
   "cell_type": "markdown",
   "id": "d7b38270-93be-41b8-95e3-e8a376c3207b",
   "metadata": {},
   "source": [
    "## Author\n",
    "Carla Daiane Ferreira de Sousa"
   ]
  },
  {
   "cell_type": "markdown",
   "id": "8d4a4d51-3e82-4bbb-a90f-4f9628ce9ca5",
   "metadata": {
    "editable": true,
    "slideshow": {
     "slide_type": ""
    },
    "tags": []
   },
   "source": [
    "# Data Science Tools and Ecosystem"
   ]
  },
  {
   "cell_type": "markdown",
   "id": "e810ee5d-f5ff-4458-85b2-be6add24095d",
   "metadata": {},
   "source": [
    "##### In this notebook, Data Science Tools and Ecosystem are summarized"
   ]
  },
  {
   "cell_type": "markdown",
   "id": "2f4b8013-8e9e-4c83-b85b-bf56f49ee03b",
   "metadata": {},
   "source": [
    "**Objectives:**\n",
    "* List popular languages for Data Science\n",
    "* List commonly used libraries used by Data Scientists\n",
    "* Create a table with Data Science Tools"
   ]
  },
  {
   "cell_type": "markdown",
   "id": "0bc3ba82-2224-40c2-beb6-ecd01649437e",
   "metadata": {},
   "source": [
    "##### Some of the popular languages that Data Scientists use are:\n",
    "1. Python\n",
    "2. R\n",
    "3. SQL\n",
    "4. Julia"
   ]
  },
  {
   "cell_type": "markdown",
   "id": "34312d90-c0d0-4c87-9659-6f62dc5b5a29",
   "metadata": {},
   "source": [
    "##### Some of the commonly used libraries used by Data Scientists include:\n",
    "1. NumPy\n",
    "2. pandas\n",
    "3. seaborn\n",
    "4. matplotlib"
   ]
  },
  {
   "cell_type": "markdown",
   "id": "cb4aa568-bab0-426e-b6e7-7a31c56003b7",
   "metadata": {},
   "source": [
    "| Data Science Tools |\n",
    "|--------------------|\n",
    "| Jupyter Notebook   |\n",
    "| RStudio            |\n",
    "| Spyder             |\n"
   ]
  },
  {
   "cell_type": "markdown",
   "id": "43be60e1-3773-4f9b-92f7-b40f55db3c12",
   "metadata": {},
   "source": [
    "### Below are a few examples of evaluating arithmetic expressions in Python"
   ]
  },
  {
   "cell_type": "code",
   "execution_count": 21,
   "id": "826c08eb-5d61-4794-bdce-4fa0d58d62e3",
   "metadata": {},
   "outputs": [
    {
     "data": {
      "text/plain": [
       "17"
      ]
     },
     "execution_count": 21,
     "metadata": {},
     "output_type": "execute_result"
    }
   ],
   "source": [
    "# This a simple arithmetic expression to mutiply then add integers\n",
    "(3*4)+5"
   ]
  },
  {
   "cell_type": "code",
   "execution_count": 25,
   "id": "d8978b58-3245-495e-9e10-08d47c6f7627",
   "metadata": {},
   "outputs": [
    {
     "data": {
      "text/plain": [
       "3.3333333333333335"
      ]
     },
     "execution_count": 25,
     "metadata": {},
     "output_type": "execute_result"
    }
   ],
   "source": [
    "# This will convert 200 minutes to hours by diving by 60\n",
    "(200/60)"
   ]
  }
 ],
 "metadata": {
  "kernelspec": {
   "display_name": "Python 3 (ipykernel)",
   "language": "python",
   "name": "python3"
  },
  "language_info": {
   "codemirror_mode": {
    "name": "ipython",
    "version": 3
   },
   "file_extension": ".py",
   "mimetype": "text/x-python",
   "name": "python",
   "nbconvert_exporter": "python",
   "pygments_lexer": "ipython3",
   "version": "3.12.7"
  }
 },
 "nbformat": 4,
 "nbformat_minor": 5
}
